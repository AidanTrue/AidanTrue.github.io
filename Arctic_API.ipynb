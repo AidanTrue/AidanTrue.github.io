{
  "nbformat": 4,
  "nbformat_minor": 0,
  "metadata": {
    "colab": {
      "name": "Arctic API.ipynb",
      "provenance": [],
      "authorship_tag": "ABX9TyNOnd9EcFpUlmQQK+vuttSR",
      "include_colab_link": true
    },
    "kernelspec": {
      "name": "python3",
      "display_name": "Python 3"
    },
    "language_info": {
      "name": "python"
    }
  },
  "cells": [
    {
      "cell_type": "markdown",
      "metadata": {
        "id": "view-in-github",
        "colab_type": "text"
      },
      "source": [
        "<a href=\"https://colab.research.google.com/github/AidanTrue/AidanTrue.github.io/blob/main/Arctic_API.ipynb\" target=\"_parent\"><img src=\"https://colab.research.google.com/assets/colab-badge.svg\" alt=\"Open In Colab\"/></a>"
      ]
    },
    {
      "cell_type": "code",
      "source": [
        "import json, requests \n",
        "\n",
        "url = requests.get(\"https://jsonplaceholder.typicode.com/users\")\n",
        "text = url.text\n",
        "\n",
        "data = json.loads(text)\n",
        "print(data)\n",
        "\n",
        "user = data[0]\n",
        "print(user['name'])\n",
        "\n",
        "address = user['address']\n",
        "print(address)"
      ],
      "metadata": {
        "colab": {
          "base_uri": "https://localhost:8080/"
        },
        "id": "OIlDoLE0bFuR",
        "outputId": "b35b92e8-cd44-4e7e-8f89-db776b1602ac"
      },
      "execution_count": 2,
      "outputs": [
        {
          "output_type": "stream",
          "name": "stdout",
          "text": [
            "[{'id': 1, 'name': 'Leanne Graham', 'username': 'Bret', 'email': 'Sincere@april.biz', 'address': {'street': 'Kulas Light', 'suite': 'Apt. 556', 'city': 'Gwenborough', 'zipcode': '92998-3874', 'geo': {'lat': '-37.3159', 'lng': '81.1496'}}, 'phone': '1-770-736-8031 x56442', 'website': 'hildegard.org', 'company': {'name': 'Romaguera-Crona', 'catchPhrase': 'Multi-layered client-server neural-net', 'bs': 'harness real-time e-markets'}}, {'id': 2, 'name': 'Ervin Howell', 'username': 'Antonette', 'email': 'Shanna@melissa.tv', 'address': {'street': 'Victor Plains', 'suite': 'Suite 879', 'city': 'Wisokyburgh', 'zipcode': '90566-7771', 'geo': {'lat': '-43.9509', 'lng': '-34.4618'}}, 'phone': '010-692-6593 x09125', 'website': 'anastasia.net', 'company': {'name': 'Deckow-Crist', 'catchPhrase': 'Proactive didactic contingency', 'bs': 'synergize scalable supply-chains'}}, {'id': 3, 'name': 'Clementine Bauch', 'username': 'Samantha', 'email': 'Nathan@yesenia.net', 'address': {'street': 'Douglas Extension', 'suite': 'Suite 847', 'city': 'McKenziehaven', 'zipcode': '59590-4157', 'geo': {'lat': '-68.6102', 'lng': '-47.0653'}}, 'phone': '1-463-123-4447', 'website': 'ramiro.info', 'company': {'name': 'Romaguera-Jacobson', 'catchPhrase': 'Face to face bifurcated interface', 'bs': 'e-enable strategic applications'}}, {'id': 4, 'name': 'Patricia Lebsack', 'username': 'Karianne', 'email': 'Julianne.OConner@kory.org', 'address': {'street': 'Hoeger Mall', 'suite': 'Apt. 692', 'city': 'South Elvis', 'zipcode': '53919-4257', 'geo': {'lat': '29.4572', 'lng': '-164.2990'}}, 'phone': '493-170-9623 x156', 'website': 'kale.biz', 'company': {'name': 'Robel-Corkery', 'catchPhrase': 'Multi-tiered zero tolerance productivity', 'bs': 'transition cutting-edge web services'}}, {'id': 5, 'name': 'Chelsey Dietrich', 'username': 'Kamren', 'email': 'Lucio_Hettinger@annie.ca', 'address': {'street': 'Skiles Walks', 'suite': 'Suite 351', 'city': 'Roscoeview', 'zipcode': '33263', 'geo': {'lat': '-31.8129', 'lng': '62.5342'}}, 'phone': '(254)954-1289', 'website': 'demarco.info', 'company': {'name': 'Keebler LLC', 'catchPhrase': 'User-centric fault-tolerant solution', 'bs': 'revolutionize end-to-end systems'}}, {'id': 6, 'name': 'Mrs. Dennis Schulist', 'username': 'Leopoldo_Corkery', 'email': 'Karley_Dach@jasper.info', 'address': {'street': 'Norberto Crossing', 'suite': 'Apt. 950', 'city': 'South Christy', 'zipcode': '23505-1337', 'geo': {'lat': '-71.4197', 'lng': '71.7478'}}, 'phone': '1-477-935-8478 x6430', 'website': 'ola.org', 'company': {'name': 'Considine-Lockman', 'catchPhrase': 'Synchronised bottom-line interface', 'bs': 'e-enable innovative applications'}}, {'id': 7, 'name': 'Kurtis Weissnat', 'username': 'Elwyn.Skiles', 'email': 'Telly.Hoeger@billy.biz', 'address': {'street': 'Rex Trail', 'suite': 'Suite 280', 'city': 'Howemouth', 'zipcode': '58804-1099', 'geo': {'lat': '24.8918', 'lng': '21.8984'}}, 'phone': '210.067.6132', 'website': 'elvis.io', 'company': {'name': 'Johns Group', 'catchPhrase': 'Configurable multimedia task-force', 'bs': 'generate enterprise e-tailers'}}, {'id': 8, 'name': 'Nicholas Runolfsdottir V', 'username': 'Maxime_Nienow', 'email': 'Sherwood@rosamond.me', 'address': {'street': 'Ellsworth Summit', 'suite': 'Suite 729', 'city': 'Aliyaview', 'zipcode': '45169', 'geo': {'lat': '-14.3990', 'lng': '-120.7677'}}, 'phone': '586.493.6943 x140', 'website': 'jacynthe.com', 'company': {'name': 'Abernathy Group', 'catchPhrase': 'Implemented secondary concept', 'bs': 'e-enable extensible e-tailers'}}, {'id': 9, 'name': 'Glenna Reichert', 'username': 'Delphine', 'email': 'Chaim_McDermott@dana.io', 'address': {'street': 'Dayna Park', 'suite': 'Suite 449', 'city': 'Bartholomebury', 'zipcode': '76495-3109', 'geo': {'lat': '24.6463', 'lng': '-168.8889'}}, 'phone': '(775)976-6794 x41206', 'website': 'conrad.com', 'company': {'name': 'Yost and Sons', 'catchPhrase': 'Switchable contextually-based project', 'bs': 'aggregate real-time technologies'}}, {'id': 10, 'name': 'Clementina DuBuque', 'username': 'Moriah.Stanton', 'email': 'Rey.Padberg@karina.biz', 'address': {'street': 'Kattie Turnpike', 'suite': 'Suite 198', 'city': 'Lebsackbury', 'zipcode': '31428-2261', 'geo': {'lat': '-38.2386', 'lng': '57.2232'}}, 'phone': '024-648-3804', 'website': 'ambrose.net', 'company': {'name': 'Hoeger LLC', 'catchPhrase': 'Centralized empowering task-force', 'bs': 'target end-to-end models'}}]\n",
            "Leanne Graham\n",
            "{'street': 'Kulas Light', 'suite': 'Apt. 556', 'city': 'Gwenborough', 'zipcode': '92998-3874', 'geo': {'lat': '-37.3159', 'lng': '81.1496'}}\n"
          ]
        }
      ]
    },
    {
      "cell_type": "code",
      "source": [
        "for i in range(0,41):\n",
        "  data_ = data2[i]\n",
        "  print(data_)\n"
      ],
      "metadata": {
        "colab": {
          "base_uri": "https://localhost:8080/",
          "height": 201
        },
        "id": "4qPehJoTc4S0",
        "outputId": "904431b1-f360-4890-a858-6220c57812c6"
      },
      "execution_count": 3,
      "outputs": [
        {
          "output_type": "error",
          "ename": "NameError",
          "evalue": "ignored",
          "traceback": [
            "\u001b[0;31m---------------------------------------------------------------------------\u001b[0m",
            "\u001b[0;31mNameError\u001b[0m                                 Traceback (most recent call last)",
            "\u001b[0;32m<ipython-input-3-8cb1abe7f5a8>\u001b[0m in \u001b[0;36m<module>\u001b[0;34m()\u001b[0m\n\u001b[1;32m      1\u001b[0m \u001b[0;32mfor\u001b[0m \u001b[0mi\u001b[0m \u001b[0;32min\u001b[0m \u001b[0mrange\u001b[0m\u001b[0;34m(\u001b[0m\u001b[0;36m0\u001b[0m\u001b[0;34m,\u001b[0m\u001b[0;36m41\u001b[0m\u001b[0;34m)\u001b[0m\u001b[0;34m:\u001b[0m\u001b[0;34m\u001b[0m\u001b[0;34m\u001b[0m\u001b[0m\n\u001b[0;32m----> 2\u001b[0;31m   \u001b[0mdata_\u001b[0m \u001b[0;34m=\u001b[0m \u001b[0mdata2\u001b[0m\u001b[0;34m[\u001b[0m\u001b[0mi\u001b[0m\u001b[0;34m]\u001b[0m\u001b[0;34m\u001b[0m\u001b[0;34m\u001b[0m\u001b[0m\n\u001b[0m\u001b[1;32m      3\u001b[0m   \u001b[0mprint\u001b[0m\u001b[0;34m(\u001b[0m\u001b[0mdata_\u001b[0m\u001b[0;34m)\u001b[0m\u001b[0;34m\u001b[0m\u001b[0;34m\u001b[0m\u001b[0m\n",
            "\u001b[0;31mNameError\u001b[0m: name 'data2' is not defined"
          ]
        }
      ]
    },
    {
      "cell_type": "code",
      "source": [
        "import json, requests\n",
        "import pandas as pd\n",
        "import numpy as np\n",
        "#####\n",
        "import csv\n",
        "\n",
        "url = requests.get(\"https://global-warming.org/api/arctic-api\")\n",
        "\n",
        "text = url.text\n",
        "\n",
        "data = json.loads(text)\n",
        "\n",
        "#####\n",
        "f = open(\"global_warming.csv\",\"w\")\n",
        "\n",
        "writer = csv.writer(f)\n",
        "\n",
        "# write the headers to the top row of the CSV\n",
        "writer.writerow([\"Year\",\"Extent\",\"Area\"])\n",
        "\n",
        "#write the data to the CSV\n",
        "for row in data[\"result\"]:\n",
        "    writer.writerow([row[\"year\"],row[\"extent\"],row[\"area\"]])\n",
        "\n",
        "#save CSV\n",
        "from google.colab import files\n",
        "files.download(\"global_warming.csv\")\n",
        "\n"
      ],
      "metadata": {
        "colab": {
          "base_uri": "https://localhost:8080/",
          "height": 17
        },
        "id": "44XdSr6YMjpf",
        "outputId": "6e3b70d6-0b2a-4633-8fc0-8c391bb4b3c6"
      },
      "execution_count": 16,
      "outputs": [
        {
          "output_type": "display_data",
          "data": {
            "application/javascript": [
              "\n",
              "    async function download(id, filename, size) {\n",
              "      if (!google.colab.kernel.accessAllowed) {\n",
              "        return;\n",
              "      }\n",
              "      const div = document.createElement('div');\n",
              "      const label = document.createElement('label');\n",
              "      label.textContent = `Downloading \"${filename}\": `;\n",
              "      div.appendChild(label);\n",
              "      const progress = document.createElement('progress');\n",
              "      progress.max = size;\n",
              "      div.appendChild(progress);\n",
              "      document.body.appendChild(div);\n",
              "\n",
              "      const buffers = [];\n",
              "      let downloaded = 0;\n",
              "\n",
              "      const channel = await google.colab.kernel.comms.open(id);\n",
              "      // Send a message to notify the kernel that we're ready.\n",
              "      channel.send({})\n",
              "\n",
              "      for await (const message of channel.messages) {\n",
              "        // Send a message to notify the kernel that we're ready.\n",
              "        channel.send({})\n",
              "        if (message.buffers) {\n",
              "          for (const buffer of message.buffers) {\n",
              "            buffers.push(buffer);\n",
              "            downloaded += buffer.byteLength;\n",
              "            progress.value = downloaded;\n",
              "          }\n",
              "        }\n",
              "      }\n",
              "      const blob = new Blob(buffers, {type: 'application/binary'});\n",
              "      const a = document.createElement('a');\n",
              "      a.href = window.URL.createObjectURL(blob);\n",
              "      a.download = filename;\n",
              "      div.appendChild(a);\n",
              "      a.click();\n",
              "      div.remove();\n",
              "    }\n",
              "  "
            ],
            "text/plain": [
              "<IPython.core.display.Javascript object>"
            ]
          },
          "metadata": {}
        },
        {
          "output_type": "display_data",
          "data": {
            "application/javascript": [
              "download(\"download_5fd92b23-0c66-44e7-afa6-e2c1011109e1\", \"global_warming.csv\", 0)"
            ],
            "text/plain": [
              "<IPython.core.display.Javascript object>"
            ]
          },
          "metadata": {}
        }
      ]
    },
    {
      "cell_type": "code",
      "source": [
        "import json, requests \n",
        "import pandas as pd\n",
        "import numpy as np\n",
        "\n",
        "\n",
        "\n",
        "url = requests.get(\"https://global-warming.org/api/arctic-api\")\n",
        "text = url.text\n",
        "\n",
        "data = json.loads(text)\n",
        "\n",
        "print(data)"
      ],
      "metadata": {
        "colab": {
          "base_uri": "https://localhost:8080/"
        },
        "id": "WM3SptRwZGQd",
        "outputId": "9ecfcc7c-10c9-414f-a733-b12fbd502e55"
      },
      "execution_count": 4,
      "outputs": [
        {
          "output_type": "stream",
          "name": "stdout",
          "text": [
            "{'error': None, 'result': [{'year': '1979', 'extent': 7.05, 'area': 4.58}, {'year': '1980', 'extent': 7.67, 'area': 4.87}, {'year': '1981', 'extent': 7.14, 'area': 4.44}, {'year': '1982', 'extent': 7.3, 'area': 4.43}, {'year': '1983', 'extent': 7.39, 'area': 4.7}, {'year': '1984', 'extent': 6.81, 'area': 4.11}, {'year': '1985', 'extent': 6.7, 'area': 4.23}, {'year': '1986', 'extent': 7.41, 'area': 4.72}, {'year': '1987', 'extent': 7.28, 'area': 5.64}, {'year': '1988', 'extent': 7.37, 'area': 5.36}, {'year': '1989', 'extent': 7.01, 'area': 4.86}, {'year': '1990', 'extent': 6.14, 'area': 4.55}, {'year': '1991', 'extent': 6.47, 'area': 4.51}, {'year': '1992', 'extent': 7.47, 'area': 5.43}, {'year': '1993', 'extent': 6.4, 'area': 4.58}, {'year': '1994', 'extent': 7.14, 'area': 5.13}, {'year': '1995', 'extent': 6.08, 'area': 4.43}, {'year': '1996', 'extent': 7.58, 'area': 5.62}, {'year': '1997', 'extent': 6.69, 'area': 4.89}, {'year': '1998', 'extent': 6.54, 'area': 4.3}, {'year': '1999', 'extent': 6.12, 'area': 4.29}, {'year': '2000', 'extent': 6.25, 'area': 4.35}, {'year': '2001', 'extent': 6.73, 'area': 4.59}, {'year': '2002', 'extent': 5.83, 'area': 4.03}, {'year': '2003', 'extent': 6.12, 'area': 4.05}, {'year': '2004', 'extent': 5.98, 'area': 4.39}, {'year': '2005', 'extent': 5.5, 'area': 4.07}, {'year': '2006', 'extent': 5.86, 'area': 4.01}, {'year': '2007', 'extent': 4.27, 'area': 2.82}, {'year': '2008', 'extent': 4.69, 'area': 3.26}, {'year': '2009', 'extent': 5.26, 'area': 3.76}, {'year': '2010', 'extent': 4.87, 'area': 3.34}, {'year': '2011', 'extent': 4.56, 'area': 3.21}, {'year': '2012', 'extent': 3.57, 'area': 2.41}, {'year': '2013', 'extent': 5.21, 'area': 3.78}, {'year': '2014', 'extent': 5.22, 'area': 3.74}, {'year': '2015', 'extent': 4.62, 'area': 3.42}, {'year': '2016', 'extent': 4.53, 'area': 2.91}, {'year': '2017', 'extent': 4.82, 'area': 3.35}, {'year': '2018', 'extent': 4.79, 'area': 3.35}, {'year': '2019', 'extent': 4.32, 'area': 3.13}]}\n"
          ]
        }
      ]
    },
    {
      "cell_type": "code",
      "source": [
        "for i in range(0,41):\n",
        "  Year = json.loads(text)[\"result\"][i][\"year\"]\n",
        "  Extent = json.loads(text)[\"result\"][i][\"extent\"]\n",
        "  Area = json.loads(text)[\"result\"][i][\"area\"]\n",
        "  ArcticData = [{'A': Year, 'B': Extent, 'C':Area}]\n",
        "  df = pd.DataFrame(ArcticData)\n",
        "  print(df)\n"
      ],
      "metadata": {
        "colab": {
          "base_uri": "https://localhost:8080/"
        },
        "id": "W-4gPbRcjz01",
        "outputId": "aa6b810a-a285-4275-96e9-e94c82a50915"
      },
      "execution_count": 9,
      "outputs": [
        {
          "output_type": "stream",
          "name": "stdout",
          "text": [
            "      A     B     C\n",
            "0  1979  7.05  4.58\n",
            "      A     B     C\n",
            "0  1980  7.67  4.87\n",
            "      A     B     C\n",
            "0  1981  7.14  4.44\n",
            "      A    B     C\n",
            "0  1982  7.3  4.43\n",
            "      A     B    C\n",
            "0  1983  7.39  4.7\n",
            "      A     B     C\n",
            "0  1984  6.81  4.11\n",
            "      A    B     C\n",
            "0  1985  6.7  4.23\n",
            "      A     B     C\n",
            "0  1986  7.41  4.72\n",
            "      A     B     C\n",
            "0  1987  7.28  5.64\n",
            "      A     B     C\n",
            "0  1988  7.37  5.36\n",
            "      A     B     C\n",
            "0  1989  7.01  4.86\n",
            "      A     B     C\n",
            "0  1990  6.14  4.55\n",
            "      A     B     C\n",
            "0  1991  6.47  4.51\n",
            "      A     B     C\n",
            "0  1992  7.47  5.43\n",
            "      A    B     C\n",
            "0  1993  6.4  4.58\n",
            "      A     B     C\n",
            "0  1994  7.14  5.13\n",
            "      A     B     C\n",
            "0  1995  6.08  4.43\n",
            "      A     B     C\n",
            "0  1996  7.58  5.62\n",
            "      A     B     C\n",
            "0  1997  6.69  4.89\n",
            "      A     B    C\n",
            "0  1998  6.54  4.3\n",
            "      A     B     C\n",
            "0  1999  6.12  4.29\n",
            "      A     B     C\n",
            "0  2000  6.25  4.35\n",
            "      A     B     C\n",
            "0  2001  6.73  4.59\n",
            "      A     B     C\n",
            "0  2002  5.83  4.03\n",
            "      A     B     C\n",
            "0  2003  6.12  4.05\n",
            "      A     B     C\n",
            "0  2004  5.98  4.39\n",
            "      A    B     C\n",
            "0  2005  5.5  4.07\n",
            "      A     B     C\n",
            "0  2006  5.86  4.01\n",
            "      A     B     C\n",
            "0  2007  4.27  2.82\n",
            "      A     B     C\n",
            "0  2008  4.69  3.26\n",
            "      A     B     C\n",
            "0  2009  5.26  3.76\n",
            "      A     B     C\n",
            "0  2010  4.87  3.34\n",
            "      A     B     C\n",
            "0  2011  4.56  3.21\n",
            "      A     B     C\n",
            "0  2012  3.57  2.41\n",
            "      A     B     C\n",
            "0  2013  5.21  3.78\n",
            "      A     B     C\n",
            "0  2014  5.22  3.74\n",
            "      A     B     C\n",
            "0  2015  4.62  3.42\n",
            "      A     B     C\n",
            "0  2016  4.53  2.91\n",
            "      A     B     C\n",
            "0  2017  4.82  3.35\n",
            "      A     B     C\n",
            "0  2018  4.79  3.35\n",
            "      A     B     C\n",
            "0  2019  4.32  3.13\n"
          ]
        }
      ]
    },
    {
      "cell_type": "code",
      "source": [
        "Year = [json.loads(text)[\"result\"][i][\"year\"] for i in range(0,41)]\n",
        "Extent = [json.loads(text)[\"result\"][i][\"extent\"] for i in range(0,41)]\n",
        "Area = [json.loads(text)[\"result\"][i][\"area\"] for i in range(0,41)]\n",
        "\n",
        "print(Year)\n",
        "\n"
      ],
      "metadata": {
        "colab": {
          "base_uri": "https://localhost:8080/"
        },
        "id": "rkolBsN6bgUT",
        "outputId": "58e28399-ff3b-41ef-8548-77d4fd882f3c"
      },
      "execution_count": 6,
      "outputs": [
        {
          "output_type": "stream",
          "name": "stdout",
          "text": [
            "['1979', '1980', '1981', '1982', '1983', '1984', '1985', '1986', '1987', '1988', '1989', '1990', '1991', '1992', '1993', '1994', '1995', '1996', '1997', '1998', '1999', '2000', '2001', '2002', '2003', '2004', '2005', '2006', '2007', '2008', '2009', '2010', '2011', '2012', '2013', '2014', '2015', '2016', '2017', '2018', '2019']\n"
          ]
        }
      ]
    },
    {
      "cell_type": "code",
      "source": [
        "for i in range(0,41):\n",
        "  Extent = json.loads(text)[\"result\"][i][\"extent\"]\n",
        "  print(Extent)"
      ],
      "metadata": {
        "colab": {
          "base_uri": "https://localhost:8080/"
        },
        "id": "8jBECTycg_QJ",
        "outputId": "dfd5e33c-fa67-4c07-8b80-d1404636a55f"
      },
      "execution_count": 7,
      "outputs": [
        {
          "output_type": "stream",
          "name": "stdout",
          "text": [
            "7.05\n",
            "7.67\n",
            "7.14\n",
            "7.3\n",
            "7.39\n",
            "6.81\n",
            "6.7\n",
            "7.41\n",
            "7.28\n",
            "7.37\n",
            "7.01\n",
            "6.14\n",
            "6.47\n",
            "7.47\n",
            "6.4\n",
            "7.14\n",
            "6.08\n",
            "7.58\n",
            "6.69\n",
            "6.54\n",
            "6.12\n",
            "6.25\n",
            "6.73\n",
            "5.83\n",
            "6.12\n",
            "5.98\n",
            "5.5\n",
            "5.86\n",
            "4.27\n",
            "4.69\n",
            "5.26\n",
            "4.87\n",
            "4.56\n",
            "3.57\n",
            "5.21\n",
            "5.22\n",
            "4.62\n",
            "4.53\n",
            "4.82\n",
            "4.79\n",
            "4.32\n"
          ]
        }
      ]
    },
    {
      "cell_type": "code",
      "source": [
        "for i in range(0,41):\n",
        "  Area = json.loads(text)[\"result\"][i][\"area\"]\n",
        "  print(Area)"
      ],
      "metadata": {
        "colab": {
          "base_uri": "https://localhost:8080/"
        },
        "id": "xQTYzyELhCK5",
        "outputId": "bf43bb17-ab26-4e2e-95b3-a3367af3891f"
      },
      "execution_count": 172,
      "outputs": [
        {
          "output_type": "stream",
          "name": "stdout",
          "text": [
            "4.58\n",
            "4.87\n",
            "4.44\n",
            "4.43\n",
            "4.7\n",
            "4.11\n",
            "4.23\n",
            "4.72\n",
            "5.64\n",
            "5.36\n",
            "4.86\n",
            "4.55\n",
            "4.51\n",
            "5.43\n",
            "4.58\n",
            "5.13\n",
            "4.43\n",
            "5.62\n",
            "4.89\n",
            "4.3\n",
            "4.29\n",
            "4.35\n",
            "4.59\n",
            "4.03\n",
            "4.05\n",
            "4.39\n",
            "4.07\n",
            "4.01\n",
            "2.82\n",
            "3.26\n",
            "3.76\n",
            "3.34\n",
            "3.21\n",
            "2.41\n",
            "3.78\n",
            "3.74\n",
            "3.42\n",
            "2.91\n",
            "3.35\n",
            "3.35\n",
            "3.13\n"
          ]
        }
      ]
    },
    {
      "cell_type": "code",
      "source": [
        ""
      ],
      "metadata": {
        "id": "0lHAnbWphcS9"
      },
      "execution_count": 168,
      "outputs": []
    }
  ]
}