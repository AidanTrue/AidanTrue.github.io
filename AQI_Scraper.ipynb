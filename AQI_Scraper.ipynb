{
  "nbformat": 4,
  "nbformat_minor": 0,
  "metadata": {
    "colab": {
      "name": "AQI Scraper.ipynb",
      "provenance": [],
      "collapsed_sections": []
    },
    "kernelspec": {
      "name": "python3",
      "display_name": "Python 3"
    },
    "language_info": {
      "name": "python"
    }
  },
  "cells": [
    {
      "cell_type": "code",
      "execution_count": 1,
      "metadata": {
        "id": "6gInljPSZwsa"
      },
      "outputs": [],
      "source": [
        "import numpy as np\n",
        "import pandas as pd\n",
        "import requests\n",
        "from bs4 import BeautifulSoup\n",
        "import os"
      ]
    },
    {
      "cell_type": "code",
      "source": [
        "URL = \"https://www.iqair.com/world-most-polluted-countries\"\n",
        "\n",
        "\n",
        "\n",
        "html = requests.get(URL)\n",
        "soup = BeautifulSoup(html.content, 'html.parser')"
      ],
      "metadata": {
        "id": "f3UgKRjDaAwW"
      },
      "execution_count": 2,
      "outputs": []
    },
    {
      "cell_type": "code",
      "source": [
        "Country_ = soup.find_all(\"div\", class_=\"country-name\")\n",
        "Country_[1].text"
      ],
      "metadata": {
        "colab": {
          "base_uri": "https://localhost:8080/",
          "height": 35
        },
        "id": "cTRC-RAUjc05",
        "outputId": "2004c415-e60c-4727-b59c-4ee7ec400078"
      },
      "execution_count": 4,
      "outputs": [
        {
          "output_type": "execute_result",
          "data": {
            "application/vnd.google.colaboratory.intrinsic+json": {
              "type": "string"
            },
            "text/plain": [
              "' Pakistan '"
            ]
          },
          "metadata": {},
          "execution_count": 4
        }
      ]
    },
    {
      "cell_type": "code",
      "source": [
        "AQI_ = soup.find_all(\"td\", class_=\"mat-cell cdk-cell table--cell__2018__country has-single-badge is-radius-left is-radius-right cdk-column-avg2020 mat-column-avg2020 ng-star-inserted\")\n",
        "\n",
        "AQI_[1].text"
      ],
      "metadata": {
        "colab": {
          "base_uri": "https://localhost:8080/",
          "height": 35
        },
        "id": "JVfMv1CkadKm",
        "outputId": "8619451b-e4bb-49c4-ad56-818d0106faef"
      },
      "execution_count": 5,
      "outputs": [
        {
          "output_type": "execute_result",
          "data": {
            "application/vnd.google.colaboratory.intrinsic+json": {
              "type": "string"
            },
            "text/plain": [
              "' 59.00 '"
            ]
          },
          "metadata": {},
          "execution_count": 5
        }
      ]
    },
    {
      "cell_type": "code",
      "source": [
        "length = len(Country_)\n",
        "print(length)\n",
        "\n",
        "results = np.empty(length)"
      ],
      "metadata": {
        "colab": {
          "base_uri": "https://localhost:8080/"
        },
        "id": "00AqwHappWT3",
        "outputId": "ebed7eab-9f4f-4744-dfeb-855fbcaf7368"
      },
      "execution_count": 7,
      "outputs": [
        {
          "output_type": "stream",
          "name": "stdout",
          "text": [
            "106\n"
          ]
        }
      ]
    },
    {
      "cell_type": "code",
      "source": [
        "Country = np.empty(length, dtype='S30')\n",
        "AQI = np.empty(length, dtype='S10')\n",
        "\n",
        "for i in range(0, length):\n",
        "   Country[i] = Country_[i].text\n",
        "   AQI[i] = AQI_[i].text\n",
        "\n",
        "\n",
        "print(Country)"
      ],
      "metadata": {
        "colab": {
          "base_uri": "https://localhost:8080/"
        },
        "id": "kDxU7OD-r3Is",
        "outputId": "c581437d-5b83-4ac8-bb12-c70665bb5f76"
      },
      "execution_count": 8,
      "outputs": [
        {
          "output_type": "stream",
          "name": "stdout",
          "text": [
            "[b' Bangladesh ' b' Pakistan ' b' India ' b' Mongolia ' b' Afghanistan '\n",
            " b' Oman ' b' Qatar ' b' Kyrgyzstan ' b' Indonesia '\n",
            " b' Bosnia Herzegovina ' b' Bahrain ' b' Nepal ' b' Mali ' b' China '\n",
            " b' Kuwait ' b' Tajikistan ' b' North Macedonia ' b' Uzbekistan '\n",
            " b' Myanmar ' b' United Arab Emirates ' b' Vietnam ' b' Bulgaria '\n",
            " b' Iran ' b' Ghana ' b' Montenegro ' b' Uganda ' b' Armenia ' b' Serbia '\n",
            " b' Saudi Arabia ' b' Laos ' b' Sri Lanka ' b' Ivory Coast '\n",
            " b' Kazakhstan ' b' Thailand ' b' Croatia ' b' Cambodia ' b' Georgia '\n",
            " b' Algeria ' b' Madagascar ' b' Kosovo ' b' South Korea ' b' Chile '\n",
            " b' Guatemala ' b' Ukraine ' b' Mexico ' b' Turkey ' b' Italy '\n",
            " b' Greece ' b' South Africa ' b' Peru ' b' Macao SAR ' b' Turkmenistan '\n",
            " b' Poland ' b' Israel ' b' Albania ' b' Cyprus ' b' Romania '\n",
            " b' Malaysia ' b' Colombia ' b' Hong Kong SAR ' b' Slovakia ' b' Taiwan '\n",
            " b' Jordan ' b' Ethiopia ' b' Hungary ' b' Argentina ' b' Kenya '\n",
            " b' Brazil ' b' Angola ' b' Philippines ' b' Czech Republic ' b' Malta '\n",
            " b' Singapore ' b' Lithuania ' b' Latvia ' b' Senegal ' b' France '\n",
            " b' Austria ' b' Curacao ' b' Spain ' b' Germany ' b' Japan '\n",
            " b' Netherlands ' b' USA ' b' Denmark ' b' Russia ' b' Portugal '\n",
            " b' Luxembourg ' b' Switzerland ' b' Belgium ' b' Ireland '\n",
            " b' United Kingdom ' b' Costa Rica ' b' Ecuador ' b' Australia '\n",
            " b' Andorra ' b' Canada ' b' Iceland ' b' New Zealand ' b' Estonia '\n",
            " b' Norway ' b' Finland ' b' Sweden ' b' U.S. Virgin Islands '\n",
            " b' New Caledonia ' b' Puerto Rico ']\n"
          ]
        }
      ]
    },
    {
      "cell_type": "code",
      "source": [
        "print(Country)"
      ],
      "metadata": {
        "colab": {
          "base_uri": "https://localhost:8080/"
        },
        "id": "utWCysMvl1Ff",
        "outputId": "e407c7f0-d9de-4329-9bf1-b6b9e65f02ce"
      },
      "execution_count": null,
      "outputs": [
        {
          "output_type": "stream",
          "name": "stdout",
          "text": [
            "[b' Bangladesh ' b' Pakistan ' b' India ' b' Mongolia ' b' Afghanistan '\n",
            " b' Oman ' b' Qatar ' b' Kyrgyzstan ' b' Indonesia '\n",
            " b' Bosnia Herzegovina ' b' Bahrain ' b' Nepal ' b' Mali ' b' China '\n",
            " b' Kuwait ' b' Tajikistan ' b' North Macedonia ' b' Uzbekistan '\n",
            " b' Myanmar ' b' United Arab Emirates ' b' Vietnam ' b' Bulgaria '\n",
            " b' Iran ' b' Ghana ' b' Montenegro ' b' Uganda ' b' Armenia ' b' Serbia '\n",
            " b' Saudi Arabia ' b' Laos ' b' Sri Lanka ' b' Ivory Coast '\n",
            " b' Kazakhstan ' b' Thailand ' b' Croatia ' b' Cambodia ' b' Georgia '\n",
            " b' Algeria ' b' Madagascar ' b' Kosovo ' b' South Korea ' b' Chile '\n",
            " b' Guatemala ' b' Ukraine ' b' Mexico ' b' Turkey ' b' Italy '\n",
            " b' Greece ' b' South Africa ' b' Peru ' b' Macao SAR ' b' Turkmenistan '\n",
            " b' Poland ' b' Israel ' b' Albania ' b' Cyprus ' b' Romania '\n",
            " b' Malaysia ' b' Colombia ' b' Hong Kong SAR ' b' Slovakia ' b' Taiwan '\n",
            " b' Jordan ' b' Ethiopia ' b' Hungary ' b' Argentina ' b' Kenya '\n",
            " b' Brazil ' b' Angola ' b' Philippines ' b' Czech Republic ' b' Malta '\n",
            " b' Singapore ' b' Lithuania ' b' Latvia ' b' Senegal ' b' France '\n",
            " b' Austria ' b' Curacao ' b' Spain ' b' Germany ' b' Japan '\n",
            " b' Netherlands ' b' USA ' b' Denmark ' b' Russia ' b' Portugal '\n",
            " b' Luxembourg ' b' Switzerland ' b' Belgium ' b' Ireland '\n",
            " b' United Kingdom ' b' Costa Rica ' b' Ecuador ' b' Australia '\n",
            " b' Andorra ' b' Canada ' b' Iceland ' b' New Zealand ' b' Estonia '\n",
            " b' Norway ' b' Finland ' b' Sweden ' b' U.S. Virgin Islands '\n",
            " b' New Caledonia ' b' Puerto Rico ']\n"
          ]
        }
      ]
    },
    {
      "cell_type": "code",
      "source": [
        "print(AQI)"
      ],
      "metadata": {
        "colab": {
          "base_uri": "https://localhost:8080/"
        },
        "id": "Zxk1CD7ln1NM",
        "outputId": "13b8fcb5-3d63-45f2-e3ba-213ab61fe946"
      },
      "execution_count": 9,
      "outputs": [
        {
          "output_type": "stream",
          "name": "stdout",
          "text": [
            "[b' 77.10 ' b' 59.00 ' b' 51.90 ' b' 46.60 ' b' 46.50 ' b' 44.40 '\n",
            " b' 44.30 ' b' 43.50 ' b' 40.70 ' b' 40.60 ' b' 39.70 ' b' 39.20 '\n",
            " b' 37.90 ' b' 34.70 ' b' 34.00 ' b' 30.90 ' b' 30.60 ' b' 29.90 '\n",
            " b' 29.40 ' b' 29.20 ' b' 28.00 ' b' 27.50 ' b' 27.20 ' b' 26.90 '\n",
            " b' 26.10 ' b' 26.10 ' b' 24.90 ' b' 24.30 ' b' 23.30 ' b' 22.40 '\n",
            " b' 22.40 ' b' 21.90 ' b' 21.90 ' b' 21.40 ' b' 21.20 ' b' 21.10 '\n",
            " b' 20.40 ' b' 20.20 ' b' 20.00 ' b' 20.00 ' b' 19.50 ' b' 19.30 '\n",
            " b' 19.20 ' b' 19.20 ' b' 18.90 ' b' 18.70 ' b' 18.50 ' b' 18.40 '\n",
            " b' 18.00 ' b' 17.90 ' b' 17.80 ' b' 17.00 ' b' 16.90 ' b' 16.90 '\n",
            " b' 16.00 ' b' 15.80 ' b' 15.80 ' b' 15.60 ' b' 15.60 ' b' 15.40 '\n",
            " b' 15.30 ' b' 15.00 ' b' 14.90 ' b' 14.70 ' b' 14.30 ' b' 14.20 '\n",
            " b' 14.20 ' b' 14.20 ' b' 13.00 ' b' 12.80 ' b' 12.30 ' b' 11.80 '\n",
            " b' 11.80 ' b' 11.70 ' b' 11.30 ' b' 11.20 ' b' 11.10 ' b' 10.90 '\n",
            " b' 10.50 ' b' 10.40 ' b' 10.10 ' b' 9.80 ' b' 9.70 ' b' 9.60 ' b' 9.40 '\n",
            " b' 9.30 ' b' 9.10 ' b' 9.00 ' b' 9.00 ' b' 8.90 ' b' 8.60 ' b' 8.30 '\n",
            " b' 8.20 ' b' 7.60 ' b' 7.60 ' b' 7.40 ' b' 7.30 ' b' 7.20 ' b' 7.00 '\n",
            " b' 5.90 ' b' 5.70 ' b' 5.00 ' b' 5.00 ' b' 3.70 ' b' 3.70 ' b' 3.70 ']\n"
          ]
        }
      ]
    },
    {
      "cell_type": "code",
      "source": [
        "df = pd.DataFrame(Country)\n",
        "\n",
        "# // Name the column\n",
        "df.columns = ['Country']\n",
        "\n",
        "df['AQI'] = AQI\n",
        "\n",
        "print(df)"
      ],
      "metadata": {
        "colab": {
          "base_uri": "https://localhost:8080/"
        },
        "id": "JEVkAZnguon1",
        "outputId": "702a6972-fc42-4027-c344-b9e45ed7adb0"
      },
      "execution_count": 10,
      "outputs": [
        {
          "output_type": "stream",
          "name": "stdout",
          "text": [
            "                      Country         AQI\n",
            "0             b' Bangladesh '  b' 77.10 '\n",
            "1               b' Pakistan '  b' 59.00 '\n",
            "2                  b' India '  b' 51.90 '\n",
            "3               b' Mongolia '  b' 46.60 '\n",
            "4            b' Afghanistan '  b' 46.50 '\n",
            "..                        ...         ...\n",
            "101              b' Finland '   b' 5.00 '\n",
            "102               b' Sweden '   b' 5.00 '\n",
            "103  b' U.S. Virgin Islands '   b' 3.70 '\n",
            "104        b' New Caledonia '   b' 3.70 '\n",
            "105          b' Puerto Rico '   b' 3.70 '\n",
            "\n",
            "[106 rows x 2 columns]\n"
          ]
        }
      ]
    },
    {
      "cell_type": "code",
      "source": [
        "df['Country'] = df['Country'].str.decode(\"utf-8\")\n",
        "df['AQI'] = df['AQI'].str.decode(\"utf-8\")\n",
        "\n",
        "\n",
        "print(df)"
      ],
      "metadata": {
        "colab": {
          "base_uri": "https://localhost:8080/"
        },
        "id": "KH51rZ41u0jU",
        "outputId": "9465fe4f-481a-4da9-a3b2-648ccb44d8f1"
      },
      "execution_count": 12,
      "outputs": [
        {
          "output_type": "stream",
          "name": "stdout",
          "text": [
            "                   Country      AQI\n",
            "0              Bangladesh    77.10 \n",
            "1                Pakistan    59.00 \n",
            "2                   India    51.90 \n",
            "3                Mongolia    46.60 \n",
            "4             Afghanistan    46.50 \n",
            "..                     ...      ...\n",
            "101               Finland     5.00 \n",
            "102                Sweden     5.00 \n",
            "103   U.S. Virgin Islands     3.70 \n",
            "104         New Caledonia     3.70 \n",
            "105           Puerto Rico     3.70 \n",
            "\n",
            "[106 rows x 2 columns]\n"
          ]
        }
      ]
    },
    {
      "cell_type": "code",
      "source": [
        "df.columns"
      ],
      "metadata": {
        "colab": {
          "base_uri": "https://localhost:8080/"
        },
        "id": "WGNbA1kxvIfU",
        "outputId": "2bd6625a-dd14-488c-e6f6-b631ea7780d2"
      },
      "execution_count": null,
      "outputs": [
        {
          "output_type": "execute_result",
          "data": {
            "text/plain": [
              "Index(['Country', 'AQI'], dtype='object')"
            ]
          },
          "metadata": {},
          "execution_count": 166
        }
      ]
    }
  ]
}